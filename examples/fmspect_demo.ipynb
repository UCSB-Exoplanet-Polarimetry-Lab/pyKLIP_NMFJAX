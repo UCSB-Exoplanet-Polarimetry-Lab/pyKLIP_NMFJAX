{
 "cells": [
  {
   "cell_type": "markdown",
   "metadata": {},
   "source": [
    "# Computing the forward model and recovering the spectrum with invert_spect_fmodel\n",
    "\n",
    "gen_fm and invert_spect_fm are modules in pyklip/fmlib/extractSpec\n",
    "\n",
    "gen_fm generates the forward model array given a pyklip instrument \n",
    "dataset and invert_spect_fm returns a spectrum in contrast units \n",
    "given the forward model array.\n",
    "\n",
    "Generating the forward model:"
   ]
  },
  {
   "cell_type": "markdown",
   "metadata": {},
   "source": [
    "## Set up"
   ]
  },
  {
   "cell_type": "code",
   "execution_count": 16,
   "metadata": {},
   "outputs": [
    {
     "name": "stdout",
     "output_type": "stream",
     "text": [
      "Reading File: /Users/azgreenb/data/gpi/Reduced/131117/S20131117S0001_spdc_distorcorr.fits\n",
      "Reading File: /Users/azgreenb/data/gpi/Reduced/131117/S20131117S0024_spdc_distorcorr.fits\n",
      "(37, 20, 20)\n"
     ]
    }
   ],
   "source": [
    "import glob\n",
    "import numpy as np\n",
    "import pyklip.instruments.GPI as GPI\n",
    "import pyklip.fmlib.extractSpec as es\n",
    "import pyklip.fm as fm\n",
    "import pyklip.fakes as fakes\n",
    "import matplotlib.pyplot as plt\n",
    "%matplotlib inline\n",
    "\n",
    "files = glob.glob(\"\\path\\to\\files*.fits\")\n",
    "#files = [files[0], files[-1]] # For testing code\n",
    "dataset = GPI.GPIData(files, highpass=True) # If testing code, can set highpass=False\n",
    "# Need to specify a model PSF (either via this method, or any other way)\n",
    "dataset.generate_psf_cube(20) \n",
    "model_psfs = dataset.psfs\n",
    "#print model_psfs\n",
    "# The units of your model PSF are important, the return spectrum will be\n",
    "# relative to the input PSF model\n",
    "print model_psfs.shape\n",
    "\n",
    "\n",
    "###### Useful values based on dataset ######\n",
    "N_frames = len(dataset.input)\n",
    "N_cubes = np.size(np.unique(dataset.filenums))\n",
    "nl = N_frames // N_cubes\n",
    "\n"
   ]
  },
  {
   "cell_type": "markdown",
   "metadata": {},
   "source": [
    "## Calibrate stellar flux (GPI example)"
   ]
  },
  {
   "cell_type": "code",
   "execution_count": 2,
   "metadata": {},
   "outputs": [
    {
     "data": {
      "text/plain": [
       "[<matplotlib.lines.Line2D at 0x10bff2210>]"
      ]
     },
     "execution_count": 2,
     "metadata": {},
     "output_type": "execute_result"
    },
    {
     "data": {
      "image/png": "[encoded data removed]",
      "text/plain": [
       "<Figure size 432x288 with 1 Axes>"
      ]
     },
     "metadata": {},
     "output_type": "display_data"
    }
   ],
   "source": [
    "# First set up a PSF model and sums -- this is necessary for GPI because \n",
    "# dataset.spot_flux contains peak values of the satellite spots and we \n",
    "# have to correct for the full aperture. \n",
    "PSF_cube = dataset.psfs / dataset.psfs.sum(axis=(1,2))[:,None, None]\n",
    "model_psf_sum = np.nansum(PSF_cube, axis=(1,2))\n",
    "model_psf_peak = np.nanmax(PSF_cube, axis=(1,2))\n",
    "# Now divide the sum by the peak for each wavelength slice\n",
    "aper_over_peak_ratio = model_psf_sum/model_psf_peak\n",
    "\n",
    "# star-to-spot calibration factor\n",
    "band = dataset.prihdrs[0]['APODIZER'].split('_')[1]\n",
    "spot_to_star_ratio = dataset.spot_ratio[band]\n",
    "# DO NOT USE dataset.band !!! (always returns K1)\n",
    "\n",
    "spot_peak_spectrum = \\\n",
    "        np.median(dataset.spot_flux.reshape(len(dataset.spot_flux)//nl, nl), axis=0)\n",
    "calibfactor = aper_over_peak_ratio*spot_peak_spectrum / spot_to_star_ratio\n",
    "\n",
    "# calibrated_PSF_model is the flux of the star in detector counts for each wavelength\n",
    "calibrated_PSF_model = PSF_cube*calibfactor[:,None, None]\n",
    "plt.title(\"Calibration spectrum\")\n",
    "plt.plot(np.unique(dataset.wvs), calibfactor)"
   ]
  },
  {
   "cell_type": "code",
   "execution_count": 3,
   "metadata": {},
   "outputs": [
    {
     "data": {
      "text/plain": [
       "<matplotlib.colorbar.Colorbar at 0x10be600d0>"
      ]
     },
     "execution_count": 3,
     "metadata": {},
     "output_type": "execute_result"
    },
    {
     "data": {
      "image/png": "[encoded data removed]",
      "text/plain": [
       "<Figure size 432x288 with 2 Axes>"
      ]
     },
     "metadata": {},
     "output_type": "display_data"
    }
   ],
   "source": [
    "plt.title(\"Model PSF\")\n",
    "plt.imshow(calibrated_PSF_model.sum(axis=0), interpolation=\"nearest\")\n",
    "plt.colorbar()"
   ]
  },
  {
   "cell_type": "markdown",
   "metadata": {},
   "source": [
    "## Compute the forward model"
   ]
  },
  {
   "cell_type": "code",
   "execution_count": 4,
   "metadata": {
    "collapsed": true
   },
   "outputs": [],
   "source": [
    "###### parameters you specify ######\n",
    "pars = (45, 222) # separation and pa of companion\n",
    "planet_sep, planet_pa = pars\n",
    "numbasis = [10,] # \"k_klip\", a list of the k_klips you want to calculate\n",
    "num_k_klip = len(numbasis) \n",
    "maxnumbasis = 100 # Max components to be calculated\n",
    "movement = 2.0 # aggressiveness for choosing reference library\n",
    "stamp_size = 10 # how big of a stamp around the companion in pixels\n",
    "                      # stamp will be stamp_size**2 pixels\n",
    "                # must be int type\n",
    "numthreads=4 # number of threads, machine specific\n",
    "spectra_template = None # a template spectrum, if you want\n",
    " "
   ]
  },
  {
   "cell_type": "code",
   "execution_count": 4,
   "metadata": {},
   "outputs": [
    {
     "name": "stderr",
     "output_type": "stream",
     "text": [
      "/Users/azgreenb/anaconda/lib/python2.7/site-packages/scipy/interpolate/fitpack2.py:1116: UserWarning: \n",
      "The coefficients of the spline returned have been computed as the\n",
      "minimal norm least-squares solution of a (numerically) rank deficient\n",
      "system (deficiency=129). If deficiency is large, the results may be\n",
      "inaccurate. Deficiency may strongly depend on the value of eps.\n",
      "  warnings.warn(message)\n"
     ]
    },
    {
     "name": "stdout",
     "output_type": "stream",
     "text": [
      "Begin align and scale images for each wavelength\n",
      "Align and scale finished\n",
      "Starting KLIP for sector 1/1 with an area of 314.159265359 pix^2\n",
      "Time spent on last sector: 0s\n",
      "Time spent since beginning: 0s\n",
      "First sector: Can't predict remaining time\n",
      " 100.00% of sector, 100.00% of total completed\n",
      "Closing threadpool\n",
      "Writing KLIPed Images to directory /Users/azgreenb/Dropbox/klip/demo_output\n"
     ]
    },
    {
     "name": "stderr",
     "output_type": "stream",
     "text": [
      "/Users/azgreenb/pythonmodules/pyklip/pyklip/fm.py:1779: RuntimeWarning: Mean of empty slice\n",
      "  KLmode_cube = np.nanmean(dataset.output, axis=1)\n",
      "/Users/azgreenb/pythonmodules/pyklip/pyklip/fm.py:1799: RuntimeWarning: Mean of empty slice\n",
      "  KLmode_spectral_cubes = np.nanmean(klipped_spec, axis=1)\n"
     ]
    }
   ],
   "source": [
    "\n",
    "   \n",
    "###### The forward model class ######\n",
    "fm_class = es.ExtractSpec(dataset.input.shape,\n",
    "                           numbasis,\n",
    "                           planet_sep,\n",
    "                           planet_pa,\n",
    "                           calibrated_PSF_model,\n",
    "                           np.unique(dataset.wvs),\n",
    "                           stamp_size = stamp_size)\n",
    "\n",
    "###### Now run KLIP! ######\n",
    "fm.klip_dataset(dataset, fm_class,\n",
    "                    fileprefix=\"fmspect\",\n",
    "                    annuli=[[planet_sep-stamp_size,planet_sep+stamp_size]],\n",
    "                    subsections=[[(planet_pa-stamp_size)/180.*np.pi,\\\n",
    "                                  (planet_pa+stamp_size)/180.*np.pi]],\n",
    "                    movement=movement,\n",
    "                    numbasis = numbasis, \n",
    "                    maxnumbasis=maxnumbasis,\n",
    "                    numthreads=numthreads,\n",
    "                    spectrum=spectra_template,\n",
    "                    save_klipped=True, highpass=False,\n",
    "                    outputdir=\"demo_output/\")\n",
    "\n",
    "# Forward model is stored in dataset.fmout, this is how it is organized:\n",
    "# the klipped psf\n",
    "klipped = dataset.fmout[:,:,-1,:]\n",
    "klipped_coadd = np.zeros((num_k_klip, nl, stamp_size*stamp_size))\n",
    "# The rest is the forward model, dimensions:\n",
    "# [num_k_klip, N_frames, N_frames,  stamp_size*stamp_size]\n",
    "# If numbasis is a list, the first dimension will be the size of that list,\n",
    "# a forward model calculated at each value of numbasis."
   ]
  },
  {
   "cell_type": "markdown",
   "metadata": {},
   "source": [
    "## Now we can recover the spectrum"
   ]
  },
  {
   "cell_type": "code",
   "execution_count": 5,
   "metadata": {},
   "outputs": [
    {
     "name": "stdout",
     "output_type": "stream",
     "text": [
      "(37, 100)\n"
     ]
    },
    {
     "name": "stderr",
     "output_type": "stream",
     "text": [
      "/Users/azgreenb/anaconda/lib/python2.7/site-packages/scipy/linalg/basic.py:1226: RuntimeWarning: internal gelsd driver lwork query error, required iwork dimension not returned. This is likely the result of LAPACK bug 0038, fixed in LAPACK 3.2.2 (released July 21, 2010). Falling back to 'gelss' driver.\n",
      "  warnings.warn(mesg, RuntimeWarning)\n"
     ]
    }
   ],
   "source": [
    "\n",
    "# If you want to scale your spectrum by a calibration factor:\n",
    "#units = \"scaled\"\n",
    "#scaling_factor = my_calibration_factor\n",
    "#e.g., for GPI this could be the star-to-spot ratio\n",
    "# otherwise, the defaults are:\n",
    "units = \"natural\" # returned relative to input PSF model\n",
    "scaling_factor=1.0 # not used if units not set to \"scaled\"\n",
    "\n",
    "\n",
    "exspect, fm_matrix = es.invert_spect_fmodel(dataset.fmout, dataset, units=units,\n",
    "                                            scaling_factor=scaling_factor, method=\"leastsq\")\n"
   ]
  },
  {
   "cell_type": "code",
   "execution_count": 6,
   "metadata": {},
   "outputs": [
    {
     "data": {
      "text/plain": [
       "[<matplotlib.lines.Line2D at 0x1044ddfd0>]"
      ]
     },
     "execution_count": 6,
     "metadata": {},
     "output_type": "execute_result"
    },
    {
     "data": {
      "image/png": "[encoded data removed]",
      "text/plain": [
       "<Figure size 432x288 with 1 Axes>"
      ]
     },
     "metadata": {},
     "output_type": "display_data"
    }
   ],
   "source": [
    "\n",
    "# Expecting this to be junk, only using 2 slices of data\n",
    "plt.plot(np.unique(dataset.wvs), exspect[0,:])"
   ]
  },
  {
   "cell_type": "markdown",
   "metadata": {},
   "source": [
    "## Simulating a fake planet & recovering the spectrum:"
   ]
  },
  {
   "cell_type": "code",
   "execution_count": 5,
   "metadata": {},
   "outputs": [
    {
     "name": "stdout",
     "output_type": "stream",
     "text": [
      "Reading File: /Users/azgreenb/data/gpi/Reduced/131117/S20131117S0001_spdc_distorcorr.fits\n",
      "Reading File: /Users/azgreenb/data/gpi/Reduced/131117/S20131117S0024_spdc_distorcorr.fits\n"
     ]
    },
    {
     "name": "stderr",
     "output_type": "stream",
     "text": [
      "/Users/azgreenb/anaconda/lib/python2.7/site-packages/scipy/interpolate/fitpack2.py:1116: UserWarning: \n",
      "The coefficients of the spline returned have been computed as the\n",
      "minimal norm least-squares solution of a (numerically) rank deficient\n",
      "system (deficiency=129). If deficiency is large, the results may be\n",
      "inaccurate. Deficiency may strongly depend on the value of eps.\n",
      "  warnings.warn(message)\n"
     ]
    },
    {
     "name": "stdout",
     "output_type": "stream",
     "text": [
      "Begin align and scale images for each wavelength\n",
      "Align and scale finished\n",
      "Starting KLIP for sector 1/1 with an area of 314.159265359 pix^2\n",
      "Time spent on last sector: 0s\n",
      "Time spent since beginning: 0s\n",
      "First sector: Can't predict remaining time\n",
      " 100.00% of sector, 100.00% of total completed\n",
      "Closing threadpool\n",
      "Writing KLIPed Images to directory /Users/azgreenb/Dropbox/klip/demo_output\n"
     ]
    },
    {
     "name": "stderr",
     "output_type": "stream",
     "text": [
      "/Users/azgreenb/pythonmodules/pyklip/pyklip/fm.py:1779: RuntimeWarning: Mean of empty slice\n",
      "  KLmode_cube = np.nanmean(dataset.output, axis=1)\n",
      "/Users/azgreenb/pythonmodules/pyklip/pyklip/fm.py:1799: RuntimeWarning: Mean of empty slice\n",
      "  KLmode_spectral_cubes = np.nanmean(klipped_spec, axis=1)\n"
     ]
    }
   ],
   "source": [
    "# PSF model template for each cube observation, copies of the PSF model:\n",
    "inputpsfs = np.tile(calibrated_PSF_model, (N_cubes, 1, 1))\n",
    "bulk_contrast = 1e-2\n",
    "fake_psf = inputpsfs*bulk_contrast\n",
    "fake_flux = bulk_contrast*np.ones(dataset.wvs.shape)\n",
    "#for ll in range(N_cubes):\n",
    "#    fake_flux[ll*nl:(ll+1)*nl] = exspect[0, :]\n",
    "pa = planet_pa+180\n",
    "\n",
    "tmp_dataset = GPI.GPIData(files, highpass=False)\n",
    "fakes.inject_planet(tmp_dataset.input, tmp_dataset.centers, fake_psf,\\\n",
    "                                tmp_dataset.wcs, planet_sep, pa)\n",
    "\n",
    "fm_class = es.ExtractSpec(tmp_dataset.input.shape,\n",
    "                           numbasis,\n",
    "                           planet_sep,\n",
    "                           pa,\n",
    "                           calibrated_PSF_model,\n",
    "                           np.unique(dataset.wvs),\n",
    "                           stamp_size = stamp_size)\n",
    "\n",
    "fm.klip_dataset(tmp_dataset, fm_class,\n",
    "                    fileprefix=\"fakespect\",\n",
    "                    annuli=[[planet_sep-stamp_size,planet_sep+stamp_size]],\n",
    "                    subsections=[[(pa-stamp_size)/180.*np.pi,\\\n",
    "                                  (pa+stamp_size)/180.*np.pi]],\n",
    "                    movement=movement,\n",
    "                    numbasis = numbasis, \n",
    "                    maxnumbasis=maxnumbasis,\n",
    "                    numthreads=numthreads,\n",
    "                    spectrum=spectra_template,\n",
    "                    save_klipped=True, highpass=True,\n",
    "                    outputdir=\"demo_output/\")"
   ]
  },
  {
   "cell_type": "code",
   "execution_count": 6,
   "metadata": {},
   "outputs": [
    {
     "name": "stdout",
     "output_type": "stream",
     "text": [
      "(37, 100)\n"
     ]
    },
    {
     "name": "stderr",
     "output_type": "stream",
     "text": [
      "/Users/azgreenb/anaconda/lib/python2.7/site-packages/scipy/linalg/basic.py:1226: RuntimeWarning: internal gelsd driver lwork query error, required iwork dimension not returned. This is likely the result of LAPACK bug 0038, fixed in LAPACK 3.2.2 (released July 21, 2010). Falling back to 'gelss' driver.\n",
      "  warnings.warn(mesg, RuntimeWarning)\n"
     ]
    },
    {
     "data": {
      "text/plain": [
       "(0, 0.02)"
      ]
     },
     "execution_count": 6,
     "metadata": {},
     "output_type": "execute_result"
    },
    {
     "data": {
      "image/png": "[encoded data removed]",
      "text/plain": [
       "<Figure size 432x288 with 1 Axes>"
      ]
     },
     "metadata": {},
     "output_type": "display_data"
    }
   ],
   "source": [
    "fake_spect, fakefm = es.invert_spect_fmodel(tmp_dataset.fmout, tmp_dataset, method=\"leastsq\",\n",
    "                                           units=\"scaled\", scaling_factor=2.0)\n",
    "plt.plot(np.unique(tmp_dataset.wvs), fake_spect[0,:])\n",
    "plt.ylim(0, 2e-2)"
   ]
  },
  {
   "cell_type": "markdown",
   "metadata": {},
   "source": [
    "If everything is working properly the spectrum should be a flat line at 1e-2. This is pretty \"bright\" so we expect some flux loss. "
   ]
  },
  {
   "cell_type": "markdown",
   "metadata": {},
   "source": [
    "## Comparing the klipped data to the forward model"
   ]
  },
  {
   "cell_type": "code",
   "execution_count": 15,
   "metadata": {},
   "outputs": [
    {
     "data": {
      "text/plain": [
       "<matplotlib.colorbar.Colorbar at 0x10c73e590>"
      ]
     },
     "execution_count": 15,
     "metadata": {},
     "output_type": "execute_result"
    },
    {
     "data": {
      "image/png": "[encoded data removed]",
      "text/plain": [
       "<Figure size 432x288 with 2 Axes>"
      ]
     },
     "metadata": {},
     "output_type": "display_data"
    },
    {
     "data": {
      "image/png": "[encoded data removed]",
      "text/plain": [
       "<Figure size 432x288 with 2 Axes>"
      ]
     },
     "metadata": {},
     "output_type": "display_data"
    }
   ],
   "source": [
    "klipped_data = tmp_dataset.fmout[:,:,-1, :]\n",
    "klipped_coadd = np.zeros((num_k_klip, nl, stamp_size*stamp_size))\n",
    "for ll in range(N_cubes):\n",
    "    klipped_coadd = klipped_coadd + klipped_data[0, ll*nl:(ll+1)*nl, :]\n",
    "# turn it back into a 2D arrat at each wavelength, k_klip\n",
    "klipped_coadd.shape = [nl, int(stamp_size), int(stamp_size)]\n",
    "plt.imshow(klipped_coadd.sum(axis=0), interpolation=\"nearest\")\n",
    "plt.colorbar()\n",
    "\n",
    "plt.figure()\n",
    "k=0\n",
    "fm_image_k = np.dot(fakefm[k,:,:], fake_spect[k].transpose()).reshape(nl, stamp_size, stamp_size)\n",
    "plt.imshow(fm_image_k.sum(axis=0), interpolation=\"nearest\")\n",
    "plt.colorbar()"
   ]
  },
  {
   "cell_type": "markdown",
   "metadata": {},
   "source": [
    "## Calculating errorbars\n",
    "\n",
    "This just takes the code from above and puts it in a loop"
   ]
  },
  {
   "cell_type": "code",
   "execution_count": null,
   "metadata": {
    "collapsed": true
   },
   "outputs": [],
   "source": [
    "def recover_fake(files, position, fake_flux):\n",
    "    # We will need to create a new dataset each time.\n",
    "    \n",
    "    # PSF model template for each cube observation, copies of the PSF model:\n",
    "    inputpsfs = np.tile(calibrated_PSF_model, (N_cubes, 1, 1))\n",
    "    bulk_contrast = 1e-2\n",
    "    fake_psf = inputpsfs*fake_flux[0,None,None]\n",
    "    pa = planet_pa+180\n",
    "\n",
    "    tmp_dataset = GPI.GPIData(files, highpass=False)\n",
    "    fakes.inject_planet(tmp_dataset.input, tmp_dataset.centers, fake_psf,\\\n",
    "                                    tmp_dataset.wcs, planet_sep, pa)\n",
    "\n",
    "    fm_class = es.ExtractSpec(tmp_dataset.input.shape,\n",
    "                               numbasis,\n",
    "                               planet_sep,\n",
    "                               pa,\n",
    "                               calibrated_PSF_model,\n",
    "                               np.unique(dataset.wvs),\n",
    "                               stamp_size = stamp_size)\n",
    "\n",
    "    fm.klip_dataset(tmp_dataset, fm_class,\n",
    "                        fileprefix=\"fakespect\",\n",
    "                        annuli=[[planet_sep-stamp_size,planet_sep+stamp_size]],\n",
    "                        subsections=[[(pa-stamp_size)/180.*np.pi,\\\n",
    "                                      (pa+stamp_size)/180.*np.pi]],\n",
    "                        movement=movement,\n",
    "                        numbasis = numbasis, \n",
    "                        maxnumbasis=maxnumbasis,\n",
    "                        numthreads=numthreads,\n",
    "                        spectrum=spectra_template,\n",
    "                        save_klipped=True, highpass=True,\n",
    "                        outputdir=\"demo_output/\")\n",
    "    fake_spect, fakefm = es.invert_spect_fmodel(tmp_dataset.fmout, tmp_dataset, method=\"leastsq\",\n",
    "                                           units=\"scaled\", scaling_factor=2.0)\n",
    "    del tmp_dataset\n",
    "    return fake_spect\n",
    "\n",
    "# This could take a long time to run\n",
    "# Define a set of PAs to put in fake sources\n",
    "npas = 11\n",
    "pas = (np.linspace(planet_pa, planet_pa+360, num=npas+2)%360)[1:-1]\n",
    "\n",
    "# For numbasis \"k\"\n",
    "# repeat the spectrum over each cube in the dataset\n",
    "input_spect = np.tile(exspect[k,:], N_cubes)[0,:]\n",
    "fake_spectra = np.zeros((npas, nl))\n",
    "for p, pa in enumerate(pas):\n",
    "    fake_spectra[p,:] = recover_fake(files, (planet_sep, pa), input_spect)\n",
    "\n",
    "#Other details, like the forward model or klipped data for the injected signal could be useful.\n",
    "\n",
    "\n",
    "# If the real companion signal is too bright, the forward model may fail to capture all the flux\n",
    "# It could be helpful to look at whether the recovered spectra for the simulated signal are \n",
    "# evenly distributed around the simulated spectrum or if they are systematically lower flux::\n",
    "\n",
    "offset[ii] = estim_spec[ii] - np.median(fake_spectra, axis=0)\n"
   ]
  },
  {
   "cell_type": "code",
   "execution_count": null,
   "metadata": {
    "collapsed": true
   },
   "outputs": [],
   "source": []
  }
 ],
 "metadata": {
  "anaconda-cloud": {},
  "kernelspec": {
   "display_name": "Python 3",
   "language": "python",
   "name": "python3"
  },
  "language_info": {
   "codemirror_mode": {
    "name": "ipython",
    "version": 3
   },
   "file_extension": ".py",
   "mimetype": "text/x-python",
   "name": "python",
   "nbconvert_exporter": "python",
   "pygments_lexer": "ipython3",
   "version": "3.6.1"
  }
 },
 "nbformat": 4,
 "nbformat_minor": 1
}
