{
 "cells": [
  {
   "cell_type": "code",
   "execution_count": 15,
   "metadata": {
    "collapsed": false
   },
   "outputs": [],
   "source": [
    "import os\n",
    "import glob\n",
    "import numpy as np\n",
    "import matplotlib.pylab as plt\n",
    "%matplotlib inline\n",
    "\n",
    "import pyklip.spectra_management as specmanage\n",
    "import pyklip.fm as fm\n",
    "import pyklip.instruments.GPI as GPI\n",
    "import pyklip.fitpsf as fitpsf\n",
    "import pyklip.fmlib.fmpsf as fmpsf\n"
   ]
  },
  {
   "cell_type": "markdown",
   "metadata": {},
   "source": [
    "# Generate the Forward Model"
   ]
  },
  {
   "cell_type": "markdown",
   "metadata": {},
   "source": [
    "## Generate the instrumental PSF for GPI Data\n",
    "\n",
    "We will use the satellite spots to generate the instrumental PSF of the data. The output will be a 37x25x25 spectral cube, with each wavelength containing a 25x25 pixel stamp of the instrumental PSF. We will normalize the instrumental PSF to unity"
   ]
  },
  {
   "cell_type": "code",
   "execution_count": 9,
   "metadata": {
    "collapsed": false
   },
   "outputs": [
    {
     "name": "stdout",
     "output_type": "stream",
     "text": [
      "Reading File: ../tests/data/S20131210S0092_spdc_distorcorr.fits\n",
      "Reading File: ../tests/data/S20131210S0099_spdc_distorcorr.fits\n",
      "Reading File: ../tests/data/S20131210S0111_spdc_distorcorr.fits\n"
     ]
    }
   ],
   "source": [
    "# Read the files first\n",
    "\n",
    "# grab the files\n",
    "filelist = glob.glob(os.path.join(\"..\", \"tests\", \"data\", \"S20131210*distorcorr.fits\"))\n",
    "filelist.sort()\n",
    "# hopefully there is still 3 filelists\n",
    "assert(len(filelist) == 3)\n",
    "\n",
    "# read in data, with a not very aggressive high pass filter just to remove low frequency background\n",
    "dataset = GPI.GPIData(filelist, highpass=40)"
   ]
  },
  {
   "cell_type": "code",
   "execution_count": 23,
   "metadata": {
    "collapsed": false
   },
   "outputs": [
    {
     "data": {
      "text/plain": [
       "<matplotlib.text.Text at 0x7f71b03973d0>"
      ]
     },
     "execution_count": 23,
     "metadata": {},
     "output_type": "execute_result"
    },
    {
     "data": {
      "image/png": "[encoded data removed]",
      "text/plain": [
       "<matplotlib.figure.Figure at 0x7f71b0494fd0>"
      ]
     },
     "metadata": {},
     "output_type": "display_data"
    }
   ],
   "source": [
    "# generate PSF\n",
    "cubesize=19\n",
    "dataset.generate_psfs(boxrad=cubesize//2)\n",
    "dataset.psfs /= (np.mean(dataset.spot_flux.reshape([dataset.spot_flux.shape[0] / 37, 37]), axis=0)[:, None, None])\n",
    "\n",
    "# Let's plot the instrumental PSF, collapsed in the wavelength dimension\n",
    "collapsed_psf = np.mean(dataset.psfs, axis=0)\n",
    "\n",
    "fig = plt.figure()\n",
    "\n",
    "plt.imshow(collapsed_psf, cmap='viridis', interpolation='nearest', vmin=0, vmax=1)\n",
    "plt.gca().invert_yaxis()\n",
    "plt.xlabel(\"X (pixels)\", fontsize=16)\n",
    "plt.ylabel(\"Y (pixles)\", fontsize=16)\n",
    "plt.colorbar()\n",
    "plt.title(\"Instrumental PSF\", fontsize=16)\n"
   ]
  },
  {
   "cell_type": "markdown",
   "metadata": {},
   "source": [
    "## Initial Estimates of the Position and Spectrum of the Planet"
   ]
  },
  {
   "cell_type": "code",
   "execution_count": 18,
   "metadata": {
    "collapsed": false
   },
   "outputs": [
    {
     "data": {
      "text/plain": [
       "<matplotlib.text.Text at 0x7f71b067bf10>"
      ]
     },
     "execution_count": 18,
     "metadata": {},
     "output_type": "execute_result"
    },
    {
     "data": {
      "image/png": "[encoded data removed]",
      "text/plain": [
       "<matplotlib.figure.Figure at 0x7f71b066b910>"
      ]
     },
     "metadata": {},
     "output_type": "display_data"
    }
   ],
   "source": [
    "# setup FM guesses\n",
    "numbasis = np.array([1, 7, 100]) # KL basis cutoffs you want to try\n",
    "guesssep = 30.1 # estimate of separation in pixels\n",
    "guesspa = 212.2 # estimate of position angle, in degrees\n",
    "guessflux = 5e-5 # estimated contrast\n",
    "dn_per_contrast = dataset.dn_per_contrast # DN/contrast ratio. For GPI, this is dataset.dn_per_contrast\n",
    "\n",
    "# Let's grab the 1600 K, log(g)=100, no cloud model from the pyklip spectral library\n",
    "spectra_folder = os.path.dirname(os.path.abspath(specmanage.__file__)) + os.sep + \"spectra\" + os.sep\n",
    "spectra_file = spectra_folder + os.sep + \"g100ncflx\" + os.sep + \"t1600g100nc.flx\"\n",
    "# we want each spectra to only have 37 channels (we don't need it to repeat for each file)\n",
    "unique_wvs = np.unique(dataset.wvs)\n",
    "guessspec = specmanage.get_planet_spectrum(spectra_file, \"J\")[1]\n",
    "\n",
    "# plot the spectrum\n",
    "plt.plot(unique_wvs, guessspec)\n",
    "plt.xlabel(\"Wavelength (microns)\")\n",
    "plt.ylabel(\"Flux\")"
   ]
  },
  {
   "cell_type": "markdown",
   "metadata": {},
   "source": [
    "## Initialize the fmpsf class\n",
    "\n",
    "This provides the functionality to forward model a planet PSF through KLIP. The warning about the coefficients of the spline that appears when running the following line of code can be safely ignored "
   ]
  },
  {
   "cell_type": "code",
   "execution_count": 20,
   "metadata": {
    "collapsed": false
   },
   "outputs": [
    {
     "name": "stderr",
     "output_type": "stream",
     "text": [
      "/usr/local/lib/python2.7/dist-packages/scipy/interpolate/fitpack2.py:1004: UserWarning: \n",
      "The coefficients of the spline returned have been computed as the\n",
      "minimal norm least-squares solution of a (numerically) rank deficient\n",
      "system (deficiency=123). If deficiency is large, the results may be\n",
      "inaccurate. Deficiency may strongly depend on the value of eps.\n",
      "  warnings.warn(message)\n"
     ]
    }
   ],
   "source": [
    "fm_class = fmpsf.FMPlanetPSF(dataset.input.shape, numbasis, guesssep, guesspa, guessflux, dataset.psfs,\n",
    "                                 np.unique(dataset.wvs), dn_per_contrast, star_spt='A6', wavelengths='J',\n",
    "                                 spectrallib=[guessspec])"
   ]
  },
  {
   "cell_type": "code",
   "execution_count": 21,
   "metadata": {
    "collapsed": false
   },
   "outputs": [
    {
     "name": "stdout",
     "output_type": "stream",
     "text": [
      "Begin align and scale images for each wavelength\n",
      "Align and scale finished\n",
      "Starting KLIP for sector 1/1\n",
      "Time spent on last sector: 0s\n",
      "Time spent since beginning: 0s\n",
      "First sector: Can't predict remaining time\n",
      " 100.00% of sector, 100.00% of total completed\n",
      "Closing threadpool\n",
      "Writing KLIPed Images to directory /home/jwang/GPI/klip/pyklip/examples\n"
     ]
    },
    {
     "name": "stderr",
     "output_type": "stream",
     "text": [
      "/usr/local/lib/python2.7/dist-packages/numpy/lib/nanfunctions.py:675: RuntimeWarning: Mean of empty slice\n",
      "  warnings.warn(\"Mean of empty slice\", RuntimeWarning)\n"
     ]
    }
   ],
   "source": [
    "# PSF subtraction parameters\n",
    "# You should change these to be suited to your data!\n",
    "outputdir = \".\" # where to write the output files\n",
    "prefix = \"betpic-131210-j-fmpsf\" # fileprefix for the output files\n",
    "annulus_bounds = [[guesssep-15, guesssep+15]] # one annulus centered on the planet\n",
    "subsections = 1 # we are not breaking up the annulus\n",
    "padding = 0 # we are not padding our zones\n",
    "movement = 4 # we are using an conservative exclusion criteria of 4 pixels\n",
    "\n",
    "\n",
    "# run KLIP-FM\n",
    "fm.klip_dataset(dataset, fm_class, outputdir=outputdir, fileprefix=prefix, numbasis=numbasis,\n",
    "                annuli=annulus_bounds, subsections=subsections, padding=padding, movement=movement)\n",
    "\n"
   ]
  },
  {
   "cell_type": "markdown",
   "metadata": {},
   "source": [
    "# Fitting the Forward Model to the Data"
   ]
  },
  {
   "cell_type": "code",
   "execution_count": null,
   "metadata": {
    "collapsed": true
   },
   "outputs": [],
   "source": []
  }
 ],
 "metadata": {
  "kernelspec": {
   "display_name": "Python 2",
   "language": "python",
   "name": "python2"
  },
  "language_info": {
   "codemirror_mode": {
    "name": "ipython",
    "version": 2
   },
   "file_extension": ".py",
   "mimetype": "text/x-python",
   "name": "python",
   "nbconvert_exporter": "python",
   "pygments_lexer": "ipython2",
   "version": "2.7.12"
  }
 },
 "nbformat": 4,
 "nbformat_minor": 0
}
