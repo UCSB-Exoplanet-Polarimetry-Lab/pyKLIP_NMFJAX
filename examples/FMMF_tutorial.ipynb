{
 "cells": [
  {
   "cell_type": "markdown",
   "metadata": {},
   "source": [
    "# Forward Model Matched Filter (FMMF) tutorial for GPI\n",
    "\n",
    "This is a first attempt at a FMMF tutorial. A FMMF has only been implemented for GPI yet.\n",
    "\n",
    "Refer to http://pyklip.readthedocs.io/en/latest/install.html#note-on-parallelized-performance for use of mkl."
   ]
  },
  {
   "cell_type": "code",
   "execution_count": null,
   "metadata": {
    "collapsed": false
   },
   "outputs": [],
   "source": [
    "# imports\n",
    "try:\n",
    "    import mkl\n",
    "    mkl.set_num_threads(1)\n",
    "except:\n",
    "    print(\"/!\\ Please Read http://pyklip.readthedocs.io/en/latest/install.html#note-on-parallelized-performance\")\n",
    "    \n",
    "from pyklip.kpp.metrics.FMMF import FMMF"
   ]
  },
  {
   "cell_type": "markdown",
   "metadata": {},
   "source": [
    "## FMMF Quick start\n",
    "\n",
    "A wrapper object has been implemented in the context of kpop for the FMMF KLIP implementation.\n",
    "\n",
    "The KLIP POst Processing framework has been implemented with surveys application in mind. It includes several wrapper functions, which all ihnerit from the same object, and performing different tasks like matched filters, SNR map calculation, detection of high SNR blobs and others. A lot features have been automated and are therefore hidden from the user, which is appreciable when running the same sequence of tasks and many datasets. The downside is that it doesn't give the user as much flexibility.\n",
    "\n"
   ]
  },
  {
   "cell_type": "markdown",
   "metadata": {},
   "source": [
    "### Defining FMMF Object"
   ]
  },
  {
   "cell_type": "code",
   "execution_count": null,
   "metadata": {
    "collapsed": false
   },
   "outputs": [],
   "source": [
    "FMMFObj = FMMF(filename = \"S*distorcorr.fits\",\n",
    "                PSF_cube_filename = None,\n",
    "                mute=None,\n",
    "                N_threads=None,\n",
    "                predefined_sectors = \"smallSep\",\n",
    "                label = \"FMMF_test\",\n",
    "                overwrite=True,\n",
    "                numbasis=[10],\n",
    "                maxnumbasis = 50,\n",
    "                mvt=1.0)\n"
   ]
  },
  {
   "cell_type": "markdown",
   "metadata": {
    "collapsed": true
   },
   "source": [
    "### Run FMMF\n",
    "FMMF is meant to be ran on 16 (or above) cores machine with 60GB (or above) of RAM. Even with such computers, the code will take many hours to days to run on a normal dataset. Therefore, an iPython notebook is not an optimal mean to run this code. One should consider running a script with the linux command *nice* to let it run in the background. The ideal environment for this FMMF implementation is a supercluster where several dataset can be ran in parallel."
   ]
  },
  {
   "cell_type": "code",
   "execution_count": null,
   "metadata": {
    "collapsed": false
   },
   "outputs": [],
   "source": [
    "inputDir = \"../tests/data/\"\n",
    "outputDir = inputDir\n",
    "\n",
    "FMMFObj.initialize(inputDir=inputDir,\n",
    "                   outputDir=outputDir,\n",
    "                   spectrum = \"t1800g100nc\",\n",
    "                   compact_date=\"myDataDate\")\n",
    "FMMFObj.calculate()\n",
    "FMMFObj.save()"
   ]
  },
  {
   "cell_type": "markdown",
   "metadata": {
    "collapsed": true
   },
   "source": [
    "## Advanced Features"
   ]
  },
  {
   "cell_type": "markdown",
   "metadata": {
    "collapsed": true
   },
   "source": [
    "**This section is in progress.**\n",
    "\n",
    "Most of them are automatically treated by the FMMF object but one could want to take a closer look:\n",
    "Sectors Definition, spectrum, Overlap, PSF cube, spectral type of the target, fakes management, noFM\n",
    "\n",
    "Also all kppPerDir related features when reducing campaign data."
   ]
  },
  {
   "cell_type": "code",
   "execution_count": null,
   "metadata": {
    "collapsed": true
   },
   "outputs": [],
   "source": []
  }
 ],
 "metadata": {
  "anaconda-cloud": {},
  "kernelspec": {
   "display_name": "Python [default]",
   "language": "python",
   "name": "python2"
  },
  "language_info": {
   "codemirror_mode": {
    "name": "ipython",
    "version": 2
   },
   "file_extension": ".py",
   "mimetype": "text/x-python",
   "name": "python",
   "nbconvert_exporter": "python",
   "pygments_lexer": "ipython2",
   "version": "2.7.12"
  }
 },
 "nbformat": 4,
 "nbformat_minor": 0
}
