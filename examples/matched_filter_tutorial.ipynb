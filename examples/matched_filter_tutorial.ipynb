{
 "cells": [
  {
   "cell_type": "markdown",
   "metadata": {},
   "source": [
    "# Matched filter tutorial\n",
    "\n",
    "This tutorial will show how to use the matched filter capabilities of PyKlip. \n"
   ]
  },
  {
   "cell_type": "markdown",
   "metadata": {},
   "source": [
    "## Preliminary\n",
    "\n",
    "### Parallelized Performance (Use of mkl)\n",
    "Refer to http://pyklip.readthedocs.io/en/latest/install.html#note-on-parallelized-performance for use of mkl."
   ]
  },
  {
   "cell_type": "code",
   "execution_count": null,
   "metadata": {
    "collapsed": true
   },
   "outputs": [],
   "source": [
    "try:\n",
    "    import mkl\n",
    "    mkl.set_num_threads(1)\n",
    "except:\n",
    "    print(\"Your code migth run slowly.\")\n",
    "    print(\"/!\\ Please Read http://pyklip.readthedocs.io/en/latest/install.html#note-on-parallelized-performance\")\n",
    "    "
   ]
  },
  {
   "cell_type": "markdown",
   "metadata": {},
   "source": [
    "### Klip POst Processing (KPOP)\n",
    "The matched filter functionality are part of PyKlip's subpackage KPOP, referring to Klip POst Processing.\n",
    "\n",
    "The KLIP POst Processing framework has been implemented with surveys application in mind. It includes several wrapper functions, which all ihnerit from the same object, and performing different tasks like matched filters, SNR map calculation, detection of high SNR blobs and others. A lot features have been automated and are therefore hidden from the user, which is appreciable when running the same sequence of tasks and many datasets.\n",
    "\n",
    "### Speckle subtraction\n",
    "The matched filter should be performed on speckle subtracted dataset so let's reduce a test dataset with PyKlip using http://pyklip.readthedocs.io/en/latest/klip_gpi.html.\n",
    "This step can be skipped if reduced images are already available."
   ]
  },
  {
   "cell_type": "code",
   "execution_count": null,
   "metadata": {
    "collapsed": false
   },
   "outputs": [],
   "source": [
    "import os\n",
    "import glob\n",
    "import pyklip.instruments.GPI as GPI\n",
    "import pyklip.parallelized as parallelized\n",
    "\n",
    "pykliproot = os.path.dirname(os.path.realpath(parallelized.__file__))\n",
    "inputDir = os.path.join(pykliproot,\"..\",\"tests\",\"data\")\n",
    "outputDir = inputDir"
   ]
  },
  {
   "cell_type": "markdown",
   "metadata": {},
   "source": [
    "Read dataset and run speckle subtraction:"
   ]
  },
  {
   "cell_type": "code",
   "execution_count": null,
   "metadata": {
    "collapsed": false,
    "scrolled": true
   },
   "outputs": [],
   "source": [
    "# Read the datacubes using the GPIData object\n",
    "filelist = glob.glob(os.path.join(inputDir,\"*spdc_distorcorr.fits\"))\n",
    "dataset = GPI.GPIData(filelist,highpass=True,meas_satspot_flux=False,numthreads=None)\n",
    "\n",
    "parallelized.klip_dataset(dataset, outputdir=outputDir, fileprefix=\"bet_Pic_test\",\n",
    "                          annuli=9, subsections=4, movement=1, numbasis=[1,20,50,100],\n",
    "                          calibrate_flux=True, mode=\"ADI+SDI\")"
   ]
  },
  {
   "cell_type": "markdown",
   "metadata": {},
   "source": [
    "## Cross Correlation\n",
    "\n",
    "The cross correlation is the most basic type of matched filter. It assumes that the noise is identically distributed for all the pixels in the image. See discussion in Ruffio et al. (2017).\n",
    "\n",
    "As an example, we can run a cross correlation and a SNR map calculation on each slice of a cube, ideal for KLmodes-all type data.\n",
    "Note that by not specifying the outputDir in the SNR calculation, the label and the folderName is inferred from the cross correlation map path."
   ]
  },
  {
   "cell_type": "code",
   "execution_count": null,
   "metadata": {
    "collapsed": false
   },
   "outputs": [],
   "source": [
    "import os\n",
    "import glob\n",
    "import pyklip.instruments.GPI as GPI\n",
    "import pyklip.parallelized as parallelized\n",
    "\n",
    "pykliproot = os.path.dirname(os.path.realpath(parallelized.__file__))\n",
    "inputDir = os.path.join(pykliproot,\"..\",\"tests\",\"data\")\n",
    "outputDir = inputDir\n",
    "\n",
    "from pyklip.kpp.metrics.crossCorr import CrossCorr\n",
    "# Definition of the cross correlation object\n",
    "filename = \"bet_Pic_test-KLmodes-all.fits\"\n",
    "read_func = lambda file_list:GPI.GPIData(file_list,recalc_centers=False,recalc_wvs=False,highpass=False)\n",
    "cc_obj = CrossCorr(read_func,filename,kernel_type=\"gaussian\",label=\"pyklip\",kernel_width=1.0)\n",
    "\n",
    "cc_obj.initialize(inputDir=inputDir,\n",
    "                   outputDir=outputDir)\n",
    "cc_image = cc_obj.calculate()\n",
    "cc_obj.save()\n",
    "\n",
    "%matplotlib inline\n",
    "import matplotlib.pyplot as plt\n",
    "plt.imshow(cc_image[2,::-1,:])"
   ]
  },
  {
   "cell_type": "code",
   "execution_count": null,
   "metadata": {
    "collapsed": false
   },
   "outputs": [],
   "source": [
    "\n",
    "from pyklip.kpp.metrics.crossCorr import CrossCorr\n",
    "# Definition of the cross correlation object\n",
    "filename = \"bet_Pic_test-KL20-speccube.fits\"\n",
    "read_func = lambda file_list:GPI.GPIData(file_list,recalc_centers=False,recalc_wvs=False,highpass=False)\n",
    "cc_obj = CrossCorr(read_func,filename,kernel_type=\"gaussian\",label=\"pyklip\",kernel_width=1.0,\n",
    "                   collapse=True,weights=spectrum,folderName=reduc_spectrum)\n",
    "\n",
    "cc_obj.initialize(inputDir=inputDir,\n",
    "                   outputDir=outputDir)\n",
    "cc_image = cc_obj.calculate()\n",
    "cc_obj.save()\n",
    "\n",
    "import matplotlib.pyplot as plt\n",
    "plt.imshow(cc_image[::-1,:])\n",
    "\n",
    "from pyklip.kpp.stat.statPerPix import StatPerPix\n",
    "filename = os.path.join(\"kpop_pyklip\",\"default_out\",\"bet_Pic_test-KLmodes-all-crossCorrgaussian.fits\")\n",
    "snr_obj = StatPerPix(filename,type=\"SNR\")\n",
    "\n",
    "snr_obj.initialize(inputDir=inputDir)\n",
    "snr_obj.calculate()\n",
    "snr_obj.save()"
   ]
  },
  {
   "cell_type": "markdown",
   "metadata": {},
   "source": [
    "Then we can run a cross correlation on spectral cubes after performing a weighted mean collapse of the cube.\n",
    "\n",
    "First, we need to define a spectrum that will be used for the weights. Here we are using the atmospheric models from Marley et al. (2017, in prep.) and Saumon et al. 2012."
   ]
  },
  {
   "cell_type": "code",
   "execution_count": 1,
   "metadata": {
    "collapsed": false
   },
   "outputs": [
    {
     "ename": "NameError",
     "evalue": "name 'glob' is not defined",
     "output_type": "error",
     "traceback": [
      "\u001b[1;31m---------------------------------------------------------------------------\u001b[0m",
      "\u001b[1;31mNameError\u001b[0m                                 Traceback (most recent call last)",
      "\u001b[1;32m<ipython-input-1-2a58bcc3990e>\u001b[0m in \u001b[0;36m<module>\u001b[1;34m()\u001b[0m\n\u001b[0;32m      3\u001b[0m \u001b[1;31m# T-type spectrum similar to 51 Eridani B in H-band.\u001b[0m\u001b[1;33m\u001b[0m\u001b[1;33m\u001b[0m\u001b[0m\n\u001b[0;32m      4\u001b[0m \u001b[0mreduc_spectrum\u001b[0m \u001b[1;33m=\u001b[0m \u001b[1;34m\"t1000g100nc\"\u001b[0m\u001b[1;33m\u001b[0m\u001b[0m\n\u001b[1;32m----> 5\u001b[1;33m \u001b[0mplanet_spectrum_dir\u001b[0m \u001b[1;33m=\u001b[0m \u001b[0mglob\u001b[0m\u001b[1;33m.\u001b[0m\u001b[0mglob\u001b[0m\u001b[1;33m(\u001b[0m\u001b[0mos\u001b[0m\u001b[1;33m.\u001b[0m\u001b[0mpath\u001b[0m\u001b[1;33m.\u001b[0m\u001b[0mjoin\u001b[0m\u001b[1;33m(\u001b[0m\u001b[0mpykliproot\u001b[0m\u001b[1;33m,\u001b[0m\u001b[1;34m\"spectra\"\u001b[0m\u001b[1;33m,\u001b[0m\u001b[1;34m\"*\"\u001b[0m\u001b[1;33m,\u001b[0m\u001b[0mreduc_spectrum\u001b[0m\u001b[1;33m+\u001b[0m\u001b[1;34m\".flx\"\u001b[0m\u001b[1;33m)\u001b[0m\u001b[1;33m)\u001b[0m\u001b[1;33m[\u001b[0m\u001b[1;36m0\u001b[0m\u001b[1;33m]\u001b[0m\u001b[1;33m\u001b[0m\u001b[0m\n\u001b[0m\u001b[0;32m      6\u001b[0m \u001b[1;31m# Wavelengths channels in a H-band GPI cube\u001b[0m\u001b[1;33m\u001b[0m\u001b[1;33m\u001b[0m\u001b[0m\n\u001b[0;32m      7\u001b[0m \u001b[0mwvs\u001b[0m \u001b[1;33m=\u001b[0m  \u001b[0mGPI\u001b[0m\u001b[1;33m.\u001b[0m\u001b[0mget_gpi_wavelength_sampling\u001b[0m\u001b[1;33m(\u001b[0m\u001b[1;34m\"H\"\u001b[0m\u001b[1;33m)\u001b[0m\u001b[1;33m\u001b[0m\u001b[0m\n",
      "\u001b[1;31mNameError\u001b[0m: name 'glob' is not defined"
     ]
    }
   ],
   "source": [
    "import pyklip.spectra_management as spec\n",
    "import numpy as np\n",
    "# T-type spectrum similar to 51 Eridani B in H-band.\n",
    "reduc_spectrum = \"t1000g100nc\"\n",
    "planet_spectrum_dir = glob.glob(os.path.join(pykliproot,\"spectra\",\"*\",reduc_spectrum+\".flx\"))[0]\n",
    "# Wavelengths channels in a H-band GPI cube\n",
    "wvs =  GPI.get_gpi_wavelength_sampling(\"H\")\n",
    "\n",
    "# Interpolate spectrum\n",
    "spectrum = spec.get_planet_spectrum(planet_spectrum_dir,wvs)[1]\n",
    "\n",
    "## For GPI, it is possible to simply indicate the spectral band.\n",
    "#spectrum = spec.get_planet_spectrum(planet_spectrum_dir,\"H\")[1]\n",
    "\n",
    "import matplotlib.pyplot as plt\n",
    "plt.plot(wvs,spectrum)\n",
    "plt.xlabel(\"Wavelengths (um)\")"
   ]
  },
  {
   "cell_type": "markdown",
   "metadata": {},
   "source": [
    "Then we simply needs to indicate \"collapse=True,weights=spectrum\" and the CrossCorr object will collapse the cube automatically."
   ]
  },
  {
   "cell_type": "code",
   "execution_count": null,
   "metadata": {
    "collapsed": false
   },
   "outputs": [],
   "source": [
    "from pyklip.kpp.metrics.crossCorr import CrossCorr\n",
    "# Definition of the cross correlation object\n",
    "filename = \"bet_Pic_test-KL20-speccube.fits\"\n",
    "cc_obj = CrossCorr(filename,kernel_type=\"gaussian\",label=\"pyklip\",kernel_width=1.0,\n",
    "                   collapse=True,weights=spectrum,folderName=reduc_spectrum)\n",
    "\n",
    "cc_obj.initialize(inputDir=inputDir,\n",
    "                   outputDir=outputDir)\n",
    "cc_obj.calculate()\n",
    "cc_obj.save()\n",
    "\n",
    "from pyklip.kpp.stat.statPerPix import StatPerPix\n",
    "filename = os.path.join(\"kpop_pyklip\",\"t1000g100nc\",\"bet_Pic_test-KL20-speccube-crossCorrgaussian.fits\")\n",
    "snr_obj = StatPerPix(filename,type=\"SNR\")\n",
    "\n",
    "snr_obj.initialize(inputDir=inputDir)\n",
    "snr_obj.calculate()\n",
    "snr_obj.save()"
   ]
  },
  {
   "cell_type": "markdown",
   "metadata": {},
   "source": [
    "However, the KPOP framework facilitates the reduction of survey data.\n",
    "Its principle is to define an object of every needed task. Objects are then executed with the kppPerDir function on all files satisfying the filename using wild characters. Also it automatically checks if the reduced file already exist to avoid wasting time (cf overwrite keyword)."
   ]
  },
  {
   "cell_type": "code",
   "execution_count": null,
   "metadata": {
    "collapsed": false,
    "scrolled": true
   },
   "outputs": [],
   "source": [
    "\n",
    "filename = \"bet_Pic_test-KL*-speccube.fits\"\n",
    "cc_obj = CrossCorr(filename,kernel_type=\"gaussian\",label=\"pyklip\",kernel_width=1.0,\n",
    "                   collapse=True,weights=spectrum,folderName=reduc_spectrum)\n",
    "filename = os.path.join(\"kpop_pyklip\",\"t1000g100nc\",\"bet_Pic_test-KL*-speccube-crossCorrgaussian.fits\")\n",
    "snr_obj = StatPerPix(filename,type=\"SNR\")\n",
    "\n",
    "from pyklip.kpp.kppPerDir import kppPerDir\n",
    "err_list = kppPerDir(inputDir,[cc_obj,snr_obj])\n",
    "\n",
    "print(\"Printing error report:\")\n",
    "for err_str in err_list:\n",
    "    print(err_str)"
   ]
  },
  {
   "cell_type": "code",
   "execution_count": null,
   "metadata": {
    "collapsed": true
   },
   "outputs": [],
   "source": [
    "\n",
    "# filename = \"bet_Pic_test-KL*-speccube.fits\"\n",
    "# snr_obj = StatPerPix(filename,\n",
    "#                          N_threads=None,label=\"FMMF\",IOWA = None,\n",
    "#                          type=\"SNR\",overwrite=overwrite,GOI_list_folder=GOI_list_folder,mute=mute,resolution=resolution)"
   ]
  },
  {
   "cell_type": "markdown",
   "metadata": {},
   "source": [
    "### Run FMMF\n",
    "FMMF is meant to be ran on 16 (or above) cores machine with 60GB (or above) of RAM. Even with such computers, the code will take many hours to days to run on a normal dataset. Therefore, an iPython notebook is not an optimal mean to run this code. One should consider running a script with the linux command *nice* to let it run in the background. The ideal environment for this FMMF implementation is a supercluster where several dataset can be ran in parallel."
   ]
  },
  {
   "cell_type": "code",
   "execution_count": null,
   "metadata": {
    "collapsed": true
   },
   "outputs": [],
   "source": [
    "inputDir = \"../tests/data/\"\n",
    "outputDir = inputDir\n",
    "\n",
    "FMMFObj.initialize(inputDir=inputDir,\n",
    "                   outputDir=outputDir,\n",
    "                   spectrum = \"t1800g100nc\",\n",
    "                   compact_date=\"myDataDate\")\n",
    "FMMFObj.calculate()\n",
    "FMMFObj.save()"
   ]
  },
  {
   "cell_type": "markdown",
   "metadata": {},
   "source": [
    "## Advanced Features"
   ]
  },
  {
   "cell_type": "markdown",
   "metadata": {},
   "source": [
    "**This section is in progress.**\n",
    "\n",
    "Most of them are automatically treated by the FMMF object but one could want to take a closer look:\n",
    "Sectors Definition, spectrum, Overlap, PSF cube, spectral type of the target, fakes management, noFM\n",
    "\n",
    "Also all kppPerDir related features when reducing campaign data."
   ]
  },
  {
   "cell_type": "code",
   "execution_count": null,
   "metadata": {
    "collapsed": true
   },
   "outputs": [],
   "source": []
  }
 ],
 "metadata": {
  "anaconda-cloud": {},
  "kernelspec": {
   "display_name": "Python [default]",
   "language": "python",
   "name": "python2"
  },
  "language_info": {
   "codemirror_mode": {
    "name": "ipython",
    "version": 2
   },
   "file_extension": ".py",
   "mimetype": "text/x-python",
   "name": "python",
   "nbconvert_exporter": "python",
   "pygments_lexer": "ipython2",
   "version": "2.7.12"
  }
 },
 "nbformat": 4,
 "nbformat_minor": 0
}
