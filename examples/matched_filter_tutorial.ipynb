{
 "cells": [
  {
   "cell_type": "markdown",
   "metadata": {},
   "source": [
    "# Matched filter tutorial\n",
    "\n",
    "This tutorial will show how to use the matched filter capabilities of PyKlip. \n"
   ]
  },
  {
   "cell_type": "markdown",
   "metadata": {},
   "source": [
    "## Preliminary\n",
    "\n",
    "### Parallelized Performance (Use of mkl)\n",
    "Refer to http://pyklip.readthedocs.io/en/latest/install.html#note-on-parallelized-performance for use of mkl."
   ]
  },
  {
   "cell_type": "code",
   "execution_count": 24,
   "metadata": {
    "collapsed": true
   },
   "outputs": [],
   "source": [
    "%matplotlib inline\n",
    "\n",
    "try:\n",
    "    import mkl\n",
    "    mkl.set_num_threads(1)\n",
    "except:\n",
    "    print(\"Your code migth run slowly.\")\n",
    "    print(\"/!\\ Please Read http://pyklip.readthedocs.io/en/latest/install.html#note-on-parallelized-performance\")\n",
    "    "
   ]
  },
  {
   "cell_type": "markdown",
   "metadata": {},
   "source": [
    "### Klip POst Processing (KPOP)\n",
    "The matched filter functionality are part of PyKlip's subpackage KPOP, referring to Klip POst Processing.\n",
    "\n",
    "The KLIP POst Processing framework has been implemented with surveys application in mind. It includes several wrapper functions, which all ihnerit from the same object, and performing different tasks like matched filters, SNR map calculation, detection of high SNR blobs and others. A lot features have been automated and are therefore hidden from the user, which is appreciable when running the same sequence of tasks and many datasets.\n",
    "\n",
    "### Speckle subtraction\n",
    "The matched filter should be performed on speckle subtracted dataset so let's reduce a test dataset with PyKlip using http://pyklip.readthedocs.io/en/latest/klip_gpi.html.\n",
    "This step can be skipped if reduced images are already available."
   ]
  },
  {
   "cell_type": "code",
   "execution_count": 19,
   "metadata": {
    "collapsed": false
   },
   "outputs": [
    {
     "name": "stdout",
     "output_type": "stream",
     "text": [
      "Reading File: /home/sda/jruffio/pyklip/pyklip/../tests/data/S20131210S0111_spdc_distorcorr.fits\n",
      "Reading File: /home/sda/jruffio/pyklip/pyklip/../tests/data/S20131210S0099_spdc_distorcorr.fits\n",
      "Reading File: /home/sda/jruffio/pyklip/pyklip/../tests/data/S20131210S0092_spdc_distorcorr.fits\n"
     ]
    }
   ],
   "source": [
    "import os\n",
    "import glob\n",
    "import pyklip.instruments.GPI as GPI\n",
    "import pyklip.parallelized as parallelized\n",
    "\n",
    "pykliproot = os.path.dirname(os.path.realpath(parallelized.__file__))\n",
    "inputDir = os.path.join(pykliproot,\"..\",\"tests\",\"data\")\n",
    "outputDir = inputDir\n",
    "\n",
    "# Read the datacubes using the GPIData object\n",
    "filelist = glob.glob(os.path.join(inputDir,\"*spdc_distorcorr.fits\"))\n",
    "dataset = GPI.GPIData(filelist,highpass=True,meas_satspot_flux=False,numthreads=None)"
   ]
  },
  {
   "cell_type": "markdown",
   "metadata": {},
   "source": [
    "Running speckle subtraction:"
   ]
  },
  {
   "cell_type": "code",
   "execution_count": 6,
   "metadata": {
    "collapsed": false,
    "scrolled": true
   },
   "outputs": [
    {
     "name": "stdout",
     "output_type": "stream",
     "text": [
      "Beginning ADI+SDI KLIP\n",
      "Begin align and scale images for each wavelength\n",
      "Wavelength 1.315 with index 31 has finished align and scale. Queuing for KLIP\n",
      "Wavelength 1.169 with index 8 has finished align and scale. Queuing for KLIP\n",
      "Wavelength 1.308 with index 30 has finished align and scale. Queuing for KLIP\n",
      "Wavelength 1.297 with index 28 has finished align and scale. Queuing for KLIP\n",
      "Wavelength 1.25 with index 21 has finished align and scale. Queuing for KLIP\n",
      "Wavelength 1.133 with index 2 has finished align and scale. Queuing for KLIP\n",
      "Wavelength 1.232 with index 18 has finished align and scale. Queuing for KLIP\n",
      "Wavelength 1.304 with index 29 has finished align and scale. Queuing for KLIP\n",
      "Wavelength 1.174 with index 9 has finished align and scale. Queuing for KLIP\n",
      "Wavelength 1.224 with index 17 has finished align and scale. Queuing for KLIP\n",
      "Wavelength 1.128 with index 1 has finished align and scale. Queuing for KLIP\n",
      "Wavelength 1.151 with index 5 has finished align and scale. Queuing for KLIP\n",
      "Wavelength 1.193 with index 12 has finished align and scale. Queuing for KLIP\n",
      "Wavelength 1.199 with index 13 has finished align and scale. Queuing for KLIP\n",
      "Wavelength 1.205 with index 14 has finished align and scale. Queuing for KLIP\n",
      "Wavelength 1.11 with index 0 has finished align and scale. Queuing for KLIP\n",
      "Wavelength 1.211 with index 15 has finished align and scale. Queuing for KLIP\n",
      "Wavelength 1.187 with index 11 has finished align and scale. Queuing for KLIP\n",
      "Wavelength 1.263 with index 23 has finished align and scale. Queuing for KLIP\n",
      "Wavelength 1.163 with index 7 has finished align and scale. Queuing for KLIP\n",
      "Wavelength 1.157 with index 6 has finished align and scale. Queuing for KLIP\n",
      "Wavelength 1.276 with index 25 has finished align and scale. Queuing for KLIP\n",
      "Wavelength 1.243 with index 20 has finished align and scale. Queuing for KLIP\n",
      "Wavelength 1.145 with index 4 has finished align and scale. Queuing for KLIP\n",
      "Wavelength 1.139 with index 3 has finished align and scale. Queuing for KLIP\n",
      "Wavelength 1.27 with index 24 has finished align and scale. Queuing for KLIP\n",
      "Wavelength 1.284 with index 26 has finished align and scale. Queuing for KLIP\n",
      "Wavelength 1.238 with index 19 has finished align and scale. Queuing for KLIP\n",
      "Wavelength 1.217 with index 16 has finished align and scale. Queuing for KLIP\n",
      "Wavelength 1.291 with index 27 has finished align and scale. Queuing for KLIP\n",
      "Wavelength 1.257 with index 22 has finished align and scale. Queuing for KLIP\n",
      "Wavelength 1.181 with index 10 has finished align and scale. Queuing for KLIP\n",
      "Wavelength 1.322 with index 32 has finished align and scale. Queuing for KLIP\n",
      "Wavelength 1.333 with index 34 has finished align and scale. Queuing for KLIP\n",
      "Wavelength 1.337 with index 35 has finished align and scale. Queuing for KLIP\n",
      "Wavelength 1.327 with index 33 has finished align and scale. Queuing for KLIP\n",
      "Wavelength 1.339 with index 36 has finished align and scale. Queuing for KLIP\n",
      "Total number of tasks for KLIP processing is 1332\n",
      "0.7508% done (9/1332 completed)\n",
      "1.502% done (19/1332 completed)\n",
      "2.252% done (29/1332 completed)\n",
      "3.003% done (39/1332 completed)\n",
      "3.754% done (49/1332 completed)\n",
      "4.505% done (59/1332 completed)\n",
      "5.255% done (69/1332 completed)\n",
      "6.006% done (79/1332 completed)\n",
      "6.757% done (89/1332 completed)\n",
      "7.508% done (99/1332 completed)\n",
      "8.258% done (109/1332 completed)\n",
      "9.009% done (119/1332 completed)\n",
      "9.76% done (129/1332 completed)\n",
      "10.51% done (139/1332 completed)\n",
      "11.26% done (149/1332 completed)\n",
      "12.01% done (159/1332 completed)\n",
      "12.76% done (169/1332 completed)\n",
      "13.51% done (179/1332 completed)\n",
      "14.26% done (189/1332 completed)\n",
      "15.02% done (199/1332 completed)\n",
      "15.77% done (209/1332 completed)\n",
      "16.52% done (219/1332 completed)\n",
      "17.27% done (229/1332 completed)\n",
      "18.02% done (239/1332 completed)\n",
      "18.77% done (249/1332 completed)\n",
      "19.52% done (259/1332 completed)\n",
      "20.27% done (269/1332 completed)\n",
      "21.02% done (279/1332 completed)\n",
      "21.77% done (289/1332 completed)\n",
      "22.52% done (299/1332 completed)\n",
      "23.27% done (309/1332 completed)\n",
      "24.02% done (319/1332 completed)\n",
      "24.77% done (329/1332 completed)\n",
      "25.53% done (339/1332 completed)\n",
      "26.28% done (349/1332 completed)\n",
      "27.03% done (359/1332 completed)\n",
      "27.78% done (369/1332 completed)\n",
      "28.53% done (379/1332 completed)\n",
      "29.28% done (389/1332 completed)\n",
      "30.03% done (399/1332 completed)\n",
      "30.78% done (409/1332 completed)\n",
      "31.53% done (419/1332 completed)\n",
      "32.28% done (429/1332 completed)\n",
      "33.03% done (439/1332 completed)\n",
      "33.78% done (449/1332 completed)\n",
      "34.53% done (459/1332 completed)\n",
      "35.29% done (469/1332 completed)\n",
      "36.04% done (479/1332 completed)\n",
      "36.79% done (489/1332 completed)\n",
      "37.54% done (499/1332 completed)\n",
      "38.29% done (509/1332 completed)\n",
      "39.04% done (519/1332 completed)\n",
      "39.79% done (529/1332 completed)\n",
      "40.54% done (539/1332 completed)\n",
      "41.29% done (549/1332 completed)\n",
      "42.04% done (559/1332 completed)\n",
      "42.79% done (569/1332 completed)\n",
      "43.54% done (579/1332 completed)\n",
      "44.29% done (589/1332 completed)\n",
      "45.05% done (599/1332 completed)\n",
      "45.8% done (609/1332 completed)\n",
      "46.55% done (619/1332 completed)\n",
      "47.3% done (629/1332 completed)\n",
      "48.05% done (639/1332 completed)\n",
      "48.8% done (649/1332 completed)\n",
      "49.55% done (659/1332 completed)\n",
      "50.3% done (669/1332 completed)\n",
      "51.05% done (679/1332 completed)\n",
      "51.8% done (689/1332 completed)\n",
      "52.55% done (699/1332 completed)\n",
      "53.3% done (709/1332 completed)\n",
      "54.05% done (719/1332 completed)\n",
      "54.8% done (729/1332 completed)\n",
      "55.56% done (739/1332 completed)\n",
      "56.31% done (749/1332 completed)\n",
      "57.06% done (759/1332 completed)\n",
      "57.81% done (769/1332 completed)\n",
      "58.56% done (779/1332 completed)\n",
      "59.31% done (789/1332 completed)\n",
      "60.06% done (799/1332 completed)\n",
      "60.81% done (809/1332 completed)\n",
      "61.56% done (819/1332 completed)\n",
      "62.31% done (829/1332 completed)\n",
      "63.06% done (839/1332 completed)\n",
      "63.81% done (849/1332 completed)\n",
      "64.56% done (859/1332 completed)\n",
      "65.32% done (869/1332 completed)\n",
      "66.07% done (879/1332 completed)\n",
      "66.82% done (889/1332 completed)\n",
      "67.57% done (899/1332 completed)\n",
      "68.32% done (909/1332 completed)\n",
      "69.07% done (919/1332 completed)\n",
      "69.82% done (929/1332 completed)\n",
      "70.57% done (939/1332 completed)\n",
      "71.32% done (949/1332 completed)\n",
      "72.07% done (959/1332 completed)\n",
      "72.82% done (969/1332 completed)\n",
      "73.57% done (979/1332 completed)\n",
      "74.32% done (989/1332 completed)\n",
      "75.08% done (999/1332 completed)\n",
      "75.83% done (1009/1332 completed)\n",
      "76.58% done (1019/1332 completed)\n",
      "77.33% done (1029/1332 completed)\n",
      "78.08% done (1039/1332 completed)\n",
      "78.83% done (1049/1332 completed)\n",
      "79.58% done (1059/1332 completed)\n",
      "80.33% done (1069/1332 completed)\n",
      "81.08% done (1079/1332 completed)\n",
      "81.83% done (1089/1332 completed)\n",
      "82.58% done (1099/1332 completed)\n",
      "83.33% done (1109/1332 completed)\n",
      "84.08% done (1119/1332 completed)\n",
      "84.83% done (1129/1332 completed)\n",
      "85.59% done (1139/1332 completed)\n",
      "86.34% done (1149/1332 completed)\n",
      "87.09% done (1159/1332 completed)\n",
      "87.84% done (1169/1332 completed)\n",
      "88.59% done (1179/1332 completed)\n",
      "89.34% done (1189/1332 completed)\n",
      "90.09% done (1199/1332 completed)\n",
      "90.84% done (1209/1332 completed)\n",
      "91.59% done (1219/1332 completed)\n",
      "92.34% done (1229/1332 completed)\n",
      "93.09% done (1239/1332 completed)\n",
      "93.84% done (1249/1332 completed)\n",
      "94.59% done (1259/1332 completed)\n",
      "95.35% done (1269/1332 completed)\n",
      "96.1% done (1279/1332 completed)\n",
      "96.85% done (1289/1332 completed)\n",
      "97.6% done (1299/1332 completed)\n",
      "98.35% done (1309/1332 completed)\n",
      "99.1% done (1319/1332 completed)\n",
      "99.85% done (1329/1332 completed)\n",
      "Closing threadpool\n",
      "Derotating Images...\n",
      "Writing Images to directory /home/sda/jruffio/pyklip/tests/data\n"
     ]
    },
    {
     "name": "stderr",
     "output_type": "stream",
     "text": [
      "/home/anaconda/lib/python2.7/site-packages/numpy/lib/nanfunctions.py:675: RuntimeWarning: Mean of empty slice\n",
      "  warnings.warn(\"Mean of empty slice\", RuntimeWarning)\n"
     ]
    }
   ],
   "source": [
    "parallelized.klip_dataset(dataset, outputdir=outputDir, fileprefix=\"bet_Pic_test\",\n",
    "                          annuli=9, subsections=4, movement=1, numbasis=[1,20,50,100],\n",
    "                          calibrate_flux=True, mode=\"ADI+SDI\")"
   ]
  },
  {
   "cell_type": "markdown",
   "metadata": {},
   "source": [
    "## Cross Correlation\n",
    "\n",
    "The cross correlation is the most basic type of matched filter. It assumes that the noise is identically distributed for all the pixels in the image. See discussion in Ruffio et al. (2017).\n"
   ]
  },
  {
   "cell_type": "code",
   "execution_count": 21,
   "metadata": {
    "collapsed": false
   },
   "outputs": [],
   "source": [
    "#Import the cross correlation class\n",
    "from pyklip.kpp.metrics.crossCorr import CrossCorr\n",
    "#Import the SNR class\n",
    "from pyklip.kpp.stat.statPerPix import StatPerPix"
   ]
  },
  {
   "cell_type": "markdown",
   "metadata": {},
   "source": [
    "We need to define a spectrum to collapse the datacubes before applying the cross correlation. Here we are using the atmospheric models from Marley et al. (2017, in prep.) and Saumon et al. 2012."
   ]
  },
  {
   "cell_type": "code",
   "execution_count": 27,
   "metadata": {
    "collapsed": false
   },
   "outputs": [
    {
     "data": {
      "text/plain": [
       "<matplotlib.text.Text at 0x7f4c64f2f050>"
      ]
     },
     "execution_count": 27,
     "metadata": {},
     "output_type": "execute_result"
    },
    {
     "data": {
      "image/png": "[encoded data removed]",
      "text/plain": [
       "<matplotlib.figure.Figure at 0x7f4c64ebb910>"
      ]
     },
     "metadata": {},
     "output_type": "display_data"
    }
   ],
   "source": [
    "import pyklip.spectra_management as spec\n",
    "import numpy as np\n",
    "# T-type spectrum similar to 51 Eridani B in H-band.\n",
    "reduc_spectrum = \"t1000g100nc\"\n",
    "planet_spectrum_dir = glob.glob(os.path.join(pykliproot,\"spectra\",\"*\",reduc_spectrum+\".flx\"))[0]\n",
    "# Wavelengths channels in a H-band GPI cube\n",
    "wvs =  np.linspace(1.4904, 1.8016, 37,endpoint=True)\n",
    "\n",
    "# Interpolate spectrum\n",
    "spectrum = spec.get_planet_spectrum(planet_spectrum_dir,wvs)[1]\n",
    "\n",
    "## For GPI, it is possible to simply indicate the spectral band.\n",
    "#spectrum = spec.get_planet_spectrum(planet_spectrum_dir,\"H\")[1]\n",
    "\n",
    "import matplotlib.pyplot as plt\n",
    "plt.plot(wvs,spectrum)\n",
    "plt.xlabel(\"Wavelengths (um)\")"
   ]
  },
  {
   "cell_type": "code",
   "execution_count": null,
   "metadata": {
    "collapsed": true
   },
   "outputs": [],
   "source": [
    "# Definition of the cross correlation object\n",
    "filename = \"bet_Pic_test-KL*-speccube.fits\"\n",
    "cc_obj = CrossCorr(filename,kernel_type=\"gaussian\",label=\"pyklip\",kernel_width=1.0,\n",
    "                   collapse=True,weights=spectrum,folderName=spectrum))"
   ]
  },
  {
   "cell_type": "code",
   "execution_count": null,
   "metadata": {
    "collapsed": true
   },
   "outputs": [],
   "source": [
    "\n",
    "# filename = \"bet_Pic_test-KL*-speccube.fits\"\n",
    "# snr_obj = StatPerPix(filename,\n",
    "#                          N_threads=None,label=\"FMMF\",IOWA = None,\n",
    "#                          type=\"SNR\",overwrite=overwrite,GOI_list_folder=GOI_list_folder,mute=mute,resolution=resolution)"
   ]
  },
  {
   "cell_type": "markdown",
   "metadata": {},
   "source": [
    "### Run FMMF\n",
    "FMMF is meant to be ran on 16 (or above) cores machine with 60GB (or above) of RAM. Even with such computers, the code will take many hours to days to run on a normal dataset. Therefore, an iPython notebook is not an optimal mean to run this code. One should consider running a script with the linux command *nice* to let it run in the background. The ideal environment for this FMMF implementation is a supercluster where several dataset can be ran in parallel."
   ]
  },
  {
   "cell_type": "code",
   "execution_count": null,
   "metadata": {
    "collapsed": true
   },
   "outputs": [],
   "source": [
    "inputDir = \"../tests/data/\"\n",
    "outputDir = inputDir\n",
    "\n",
    "FMMFObj.initialize(inputDir=inputDir,\n",
    "                   outputDir=outputDir,\n",
    "                   spectrum = \"t1800g100nc\",\n",
    "                   compact_date=\"myDataDate\")\n",
    "FMMFObj.calculate()\n",
    "FMMFObj.save()"
   ]
  },
  {
   "cell_type": "markdown",
   "metadata": {},
   "source": [
    "## Advanced Features"
   ]
  },
  {
   "cell_type": "markdown",
   "metadata": {},
   "source": [
    "**This section is in progress.**\n",
    "\n",
    "Most of them are automatically treated by the FMMF object but one could want to take a closer look:\n",
    "Sectors Definition, spectrum, Overlap, PSF cube, spectral type of the target, fakes management, noFM\n",
    "\n",
    "Also all kppPerDir related features when reducing campaign data."
   ]
  },
  {
   "cell_type": "code",
   "execution_count": null,
   "metadata": {
    "collapsed": true
   },
   "outputs": [],
   "source": []
  }
 ],
 "metadata": {
  "anaconda-cloud": {},
  "kernelspec": {
   "display_name": "Python [default]",
   "language": "python",
   "name": "python2"
  },
  "language_info": {
   "codemirror_mode": {
    "name": "ipython",
    "version": 2
   },
   "file_extension": ".py",
   "mimetype": "text/x-python",
   "name": "python",
   "nbconvert_exporter": "python",
   "pygments_lexer": "ipython2",
   "version": "2.7.12"
  }
 },
 "nbformat": 4,
 "nbformat_minor": 0
}
