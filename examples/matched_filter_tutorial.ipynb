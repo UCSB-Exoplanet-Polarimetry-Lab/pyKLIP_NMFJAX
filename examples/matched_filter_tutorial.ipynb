{
 "cells": [
  {
   "cell_type": "markdown",
   "metadata": {},
   "source": [
    "# Cross Correlation/Matched filter tutorial\n",
    "\n",
    "This tutorial will show how to use the matched filter capabilities of PyKlip. \n"
   ]
  },
  {
   "cell_type": "markdown",
   "metadata": {},
   "source": [
    "## Preliminary\n",
    "\n",
    "### Parallelized Performance (Use of mkl)\n",
    "Refer to http://pyklip.readthedocs.io/en/latest/install.html#note-on-parallelized-performance for use of mkl."
   ]
  },
  {
   "cell_type": "code",
   "execution_count": null,
   "metadata": {
    "collapsed": true
   },
   "outputs": [],
   "source": [
    "try:\n",
    "    import mkl\n",
    "    mkl.set_num_threads(1)\n",
    "except:\n",
    "    print(\"Your code migth run slowly.\")\n",
    "    print(\"/!\\ Please Read http://pyklip.readthedocs.io/en/latest/install.html#note-on-parallelized-performance\")\n",
    "    "
   ]
  },
  {
   "cell_type": "markdown",
   "metadata": {},
   "source": [
    "### Klip POst Processing (KPOP)\n",
    "The matched filter functionality are part of PyKlip's subpackage KPOP, referring to Klip POst Processing.\n",
    "\n",
    "The KLIP POst Processing framework has been implemented with surveys application in mind. It includes several wrapper functions, which all ihnerit from the same object, and performing different tasks like matched filters, SNR map calculation, detection of high SNR blobs and others. A lot features have been automated and are therefore hidden from the user, which is appreciable when running the same sequence of tasks and many datasets.\n",
    "\n",
    "### Speckle subtraction\n",
    "The matched filter should be performed on speckle subtracted dataset so let's reduce a test dataset with PyKlip using http://pyklip.readthedocs.io/en/latest/klip_gpi.html.\n",
    "This step can be skipped if reduced images are already available."
   ]
  },
  {
   "cell_type": "code",
   "execution_count": null,
   "metadata": {
    "collapsed": false
   },
   "outputs": [],
   "source": [
    "import os\n",
    "import glob\n",
    "import pyklip.instruments.GPI as GPI\n",
    "import pyklip.parallelized as parallelized\n",
    "\n",
    "pykliproot = os.path.dirname(os.path.realpath(parallelized.__file__))\n",
    "inputDir = os.path.join(pykliproot,\"..\",\"tests\",\"data\")\n",
    "outputDir = inputDir"
   ]
  },
  {
   "cell_type": "markdown",
   "metadata": {},
   "source": [
    "Read dataset and run speckle subtraction:"
   ]
  },
  {
   "cell_type": "code",
   "execution_count": null,
   "metadata": {
    "collapsed": false,
    "scrolled": true
   },
   "outputs": [],
   "source": [
    "# Read the datacubes using the GPIData object\n",
    "filelist = glob.glob(os.path.join(inputDir,\"*spdc_distorcorr.fits\"))\n",
    "dataset = GPI.GPIData(filelist,highpass=True,meas_satspot_flux=False,numthreads=None)\n",
    "\n",
    "parallelized.klip_dataset(dataset, outputdir=outputDir, fileprefix=\"bet_Pic_test\",\n",
    "                          annuli=9, subsections=4, movement=1, numbasis=[1,20,50,100],\n",
    "                          calibrate_flux=True, mode=\"ADI+SDI\")"
   ]
  },
  {
   "cell_type": "markdown",
   "metadata": {},
   "source": [
    "## Cross Correlation\n",
    "\n",
    "The cross correlation is the most basic type of matched filter. It assumes that the noise is identically distributed for all the pixels in the image. See discussion in Ruffio et al. (2017).\n",
    "\n",
    "The following shows different cases for applying the cross correlation.\n",
    "\n",
    "### Single cube. Independent slices.\n",
    "\n",
    "For example, pyklip produces fits cube where each slice is the a collapsed spectral cube but using different number of KL modes (filename suffix is KLmodes-all). CrossCorr will process each slice independently.\n",
    "\n",
    "The method check_existence() allows to check for the existence of the processed file. You might want to skip it if it already exists."
   ]
  },
  {
   "cell_type": "code",
   "execution_count": null,
   "metadata": {
    "collapsed": false
   },
   "outputs": [],
   "source": [
    "from pyklip.kpp.metrics.crossCorr import CrossCorr\n",
    "\n",
    "# Definition of the cross correlation object\n",
    "filename = \"bet_Pic_test-KLmodes-all.fits\"\n",
    "read_func = lambda file_list:GPI.GPIData(file_list,recalc_centers=False,recalc_wvs=False,highpass=False)\n",
    "cc_obj = CrossCorr(read_func,filename,kernel_type=\"gaussian\",kernel_para=1.0,label=\"pyklip\")\n",
    "\n",
    "cc_obj.initialize(inputDir=inputDir,\n",
    "                   outputDir=outputDir)\n",
    "#check if the processed data exists\n",
    "print(\"Does the processed file exist? {0}\".format(cc_obj.check_existence()))\n",
    "# Run cross correlation\n",
    "cc_image = cc_obj.calculate()\n",
    "# Save data to #pykliproot#/../tests/data/kpop_pyklip/default_out/bet_Pic_test-KLmodes-all-crossCorrgaussian.fits\n",
    "cc_obj.save()\n",
    "#check if the processed data exists\n",
    "print(\"Does the processed file exist? {0}\".format(cc_obj.check_existence()))\n",
    "\n",
    "%matplotlib inline\n",
    "import matplotlib.pyplot as plt\n",
    "plt.imshow(cc_image[2,::-1,:])"
   ]
  },
  {
   "cell_type": "markdown",
   "metadata": {},
   "source": [
    "### Single Spectral Cube\n",
    "\n",
    "For example, pyklip produces spectral cube with the suffix \"speccube\". CrossCorr can first collapse the cube with a given spectrum before running the cross correlation using the two keywords \"collapse=True,spectrum=spectrum\". Here we are using the atmospheric models from Marley et al. (2017, in prep.) and Saumon et al. 2012."
   ]
  },
  {
   "cell_type": "code",
   "execution_count": null,
   "metadata": {
    "collapsed": false
   },
   "outputs": [],
   "source": [
    "from pyklip.kpp.metrics.crossCorr import CrossCorr\n",
    "\n",
    "# Define the spectrum from its name\n",
    "spectrum = \"t1300g100f2\"\n",
    "# Spectrum can also be user defined as commented in the line below.\n",
    "#spectrum = np.ones(37)\n",
    "folderName = \"t1300g100f2\"\n",
    "\n",
    "# Definition of the cross correlation object\n",
    "filename = \"bet_Pic_test-KL20-speccube.fits\"\n",
    "read_func = lambda file_list:GPI.GPIData(file_list,recalc_centers=False,recalc_wvs=False,highpass=False)\n",
    "cc_obj = CrossCorr(read_func,filename,kernel_type=\"gaussian\",kernel_para=1.0,label=\"pyklip\",\n",
    "                   collapse=True,spectrum=spectrum,folderName=folderName)\n",
    "\n",
    "cc_obj.initialize(inputDir=inputDir,\n",
    "                   outputDir=outputDir)\n",
    "cc_image = cc_obj.calculate()\n",
    "cc_obj.save()\n",
    "\n",
    "import matplotlib.pyplot as plt\n",
    "plt.imshow(cc_image[::-1,:])"
   ]
  },
  {
   "cell_type": "markdown",
   "metadata": {},
   "source": [
    "### SNR calculation\n",
    "\n",
    "StatPerPix can be used to estimate the SNR maps. It estimate the standard deviation for each pixel in an annulus at the same separation from which the surroundings of the pixel has been masked.\n",
    "\n",
    "Note that by not specifying the outputDir in the SNR calculation, the label and the folderName is inferred from the cross correlation map path."
   ]
  },
  {
   "cell_type": "code",
   "execution_count": null,
   "metadata": {
    "collapsed": false
   },
   "outputs": [],
   "source": [
    "from pyklip.kpp.stat.stat import Stat\n",
    "\n",
    "# Definition of the SNR object\n",
    "read_func = lambda file_list:GPI.GPIData(file_list,recalc_centers=False,recalc_wvs=False,highpass=False)\n",
    "filename = os.path.join(\"kpop_pyklip\",\"t1300g100f2\",\"bet_Pic_test-KL20-speccube-crossCorrgaussian.fits\")\n",
    "snr_obj = Stat(read_func,filename,type=\"pixel based SNR\")\n",
    "\n",
    "snr_obj.initialize(inputDir=inputDir)\n",
    "snr_image = snr_obj.calculate()\n",
    "snr_obj.save()\n",
    "\n",
    "import numpy as np\n",
    "print(\"The SNR peak in the image is {0:.2f} sigma.\".format(np.nanmax(snr_image)))\n",
    "import matplotlib.pyplot as plt\n",
    "plt.imshow(snr_image[::-1,:])"
   ]
  },
  {
   "cell_type": "markdown",
   "metadata": {},
   "source": [
    "### Multiple files with different reduction spectra\n",
    "\n",
    "KPOP has been optimized to ease the reduction of survey data. Reducing one or several files requires the same number of lines of code. The function automating the process is called kppPerDir and take a list of objects (ie tasks to be executed) and a list of spectrum over which to iterate. Each object knows if it has to iterate over the spectra or not. For example the SNR calculation will be insensitive to spectrum_list.\n",
    "\n",
    "kppPerDir will automatically iterate over all the files matching the filename description (using wildcards).\n",
    "\n",
    "If overwrite kept False, kppPerDir automatically verifies that the files has not already been processed."
   ]
  },
  {
   "cell_type": "code",
   "execution_count": null,
   "metadata": {
    "collapsed": true
   },
   "outputs": [],
   "source": [
    "import numpy  as np\n",
    "spectrum_list = [np.ones(37),\"t600g100nc\",\"t1300g100f2\"]\n",
    "\n",
    "read_func = lambda file_list:GPI.GPIData(file_list,recalc_centers=False,recalc_wvs=False,highpass=False)\n",
    "\n",
    "# Definition of the cross correlation object\n",
    "from pyklip.kpp.metrics.crossCorr import CrossCorr\n",
    "filename = \"bet_Pic_test-KL*-speccube.fits\"\n",
    "cc_obj = CrossCorr(read_func,filename,kernel_type=\"gaussian\",kernel_para=1.0,label=\"pyklip\",collapse=True)\n",
    "\n",
    "# Definition of the SNR object\n",
    "from pyklip.kpp.stat.stat import Stat\n",
    "filename = os.path.join(\"kpop_pyklip\",\"*\",\"bet_Pic_test-KL*-speccube-crossCorrgaussian.fits\")\n",
    "snr_obj = Stat(read_func,filename,type=\"pixel based SNR\")\n",
    "\n",
    "# Process all matching files\n",
    "from pyklip.kpp.kpop_wrapper import kpop_wrapper\n",
    "err_list = kpop_wrapper(inputDir,[cc_obj,snr_obj],spectrum_list=spectrum_list,mute_error = False)\n",
    "\n",
    "# One can check if reductions have failed here\n",
    "print(\"Printing error report:\")\n",
    "for err_str in err_list:\n",
    "    print(err_str)"
   ]
  },
  {
   "cell_type": "markdown",
   "metadata": {},
   "source": [
    "## Matched Filter\n",
    "\n",
    "Here, we make a difference between matched filter and cross correlation. The cross correlation doesn't account for noise variation in the image while the matched filter does. There is a normalization by the local standard deviation, which is estimated from the image/cube directly. See discussion in Ruffio et al. (2017).\n",
    "\n",
    "The matched filter class doesn't work cubes with indepedent slices. Here we show an example with a spectral datacube.\n",
    "The multiple file calculation works as before.\n",
    "\n",
    "### Single Spectral Cube"
   ]
  },
  {
   "cell_type": "code",
   "execution_count": null,
   "metadata": {
    "collapsed": false
   },
   "outputs": [],
   "source": [
    "from pyklip.kpp.metrics.matchedfilter import Matchedfilter\n",
    "\n",
    "# Define the spectrum from its name\n",
    "spectrum = \"t1300g100f2\"\n",
    "# Spectrum can also be user defined as commented in the line below.\n",
    "#spectrum = np.ones(37)\n",
    "folderName = \"t1300g100f2\"\n",
    "\n",
    "# Definition of the cross correlation object\n",
    "filename = \"bet_Pic_test-KL20-speccube.fits\"\n",
    "read_func = lambda file_list:GPI.GPIData(file_list,recalc_centers=False,recalc_wvs=False,highpass=False)\n",
    "mf_obj = Matchedfilter(read_func,filename,kernel_type=\"gaussian\",kernel_para=1.0,label=\"pyklip\",\n",
    "                       spectrum=spectrum,folderName=folderName)\n",
    "\n",
    "mf_obj.initialize(inputDir=inputDir,\n",
    "                   outputDir=outputDir)\n",
    "out = mf_obj.calculate()\n",
    "mf_map,cc_map,flux_map = out\n",
    "mf_obj.save()\n",
    "\n",
    "import matplotlib.pyplot as plt\n",
    "import numpy as np\n",
    "print(np.nanmax(mf_map),np.nanmax(cc_map),np.nanmax(flux_map))\n",
    "plt.imshow(mf_map[::-1,:])"
   ]
  },
  {
   "cell_type": "markdown",
   "metadata": {},
   "source": [
    "### SNR calculation\n",
    "\n",
    "Again, let's calculate the SNR in exactly the same manner."
   ]
  },
  {
   "cell_type": "code",
   "execution_count": null,
   "metadata": {
    "collapsed": false
   },
   "outputs": [],
   "source": [
    "from pyklip.kpp.stat.stat import Stat\n",
    "\n",
    "# Definition of the SNR object\n",
    "read_func = lambda file_list:GPI.GPIData(file_list,recalc_centers=False,recalc_wvs=False,highpass=False)\n",
    "filename = os.path.join(\"kpop_pyklip\",\"t1300g100f2\",\"bet_Pic_test-KL20-speccube-MF3Dgaussian.fits\")\n",
    "snr_obj = Stat(read_func,filename,type=\"pixel based SNR\")\n",
    "\n",
    "snr_obj.initialize(inputDir=inputDir)\n",
    "snr_image = snr_obj.calculate()\n",
    "snr_obj.save()\n",
    "\n",
    "import numpy as np\n",
    "print(\"The SNR peak in the image is {0:.2f} sigma.\".format(np.nanmax(snr_image)))\n",
    "import matplotlib.pyplot as plt\n",
    "plt.imshow(snr_image[::-1,:])"
   ]
  },
  {
   "cell_type": "markdown",
   "metadata": {},
   "source": [
    "## Advanced Features"
   ]
  },
  {
   "cell_type": "code",
   "execution_count": null,
   "metadata": {
    "collapsed": true
   },
   "outputs": [],
   "source": []
  }
 ],
 "metadata": {
  "anaconda-cloud": {},
  "kernelspec": {
   "display_name": "Python [default]",
   "language": "python",
   "name": "python2"
  },
  "language_info": {
   "codemirror_mode": {
    "name": "ipython",
    "version": 2
   },
   "file_extension": ".py",
   "mimetype": "text/x-python",
   "name": "python",
   "nbconvert_exporter": "python",
   "pygments_lexer": "ipython2",
   "version": "2.7.12"
  }
 },
 "nbformat": 4,
 "nbformat_minor": 0
}
